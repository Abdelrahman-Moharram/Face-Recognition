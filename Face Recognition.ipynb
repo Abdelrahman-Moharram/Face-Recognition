{
 "cells": [
  {
   "cell_type": "code",
   "execution_count": 1,
   "metadata": {},
   "outputs": [
    {
     "name": "stderr",
     "output_type": "stream",
     "text": [
      "Using TensorFlow backend.\n"
     ]
    }
   ],
   "source": [
    "import numpy as np\n",
    "import pandas as pd\n",
    "import matplotlib.pyplot as plt\n",
    "from sklearn.model_selection import train_test_split\n",
    "from keras.utils import np_utils\n",
    "from keras.models import Sequential\n",
    "from keras.layers import Dense, Dropout, Activation\n",
    "from keras import models\n",
    "\n",
    "data = np.load(\"olivetti_faces.npy\")\n",
    "\n",
    "target = np.load(\"olivetti_faces_target.npy\")\n",
    "\n"
   ]
  },
  {
   "cell_type": "code",
   "execution_count": null,
   "metadata": {},
   "outputs": [],
   "source": []
  },
  {
   "cell_type": "code",
   "execution_count": 2,
   "metadata": {},
   "outputs": [
    {
     "name": "stdout",
     "output_type": "stream",
     "text": [
      "X shape: (400, 4096)\n"
     ]
    }
   ],
   "source": [
    "X=data.reshape((data.shape[0],data.shape[1]*data.shape[2]))\n",
    "print(\"X shape:\",X.shape)"
   ]
  },
  {
   "cell_type": "code",
   "execution_count": 3,
   "metadata": {},
   "outputs": [
    {
     "name": "stdout",
     "output_type": "stream",
     "text": [
      "X_train shape: (300, 4096)\n",
      "y_train shape:(300,)\n"
     ]
    }
   ],
   "source": [
    "X_train, X_test, y_train, y_test = train_test_split(X, target, test_size=0.25, random_state=0)\n",
    "print(\"X_train shape:\",X_train.shape)\n",
    "print(\"y_train shape:{}\".format(y_train.shape))"
   ]
  },
  {
   "cell_type": "code",
   "execution_count": 4,
   "metadata": {},
   "outputs": [
    {
     "data": {
      "text/plain": [
       "<matplotlib.axes._subplots.AxesSubplot at 0x19e0cc36d68>"
      ]
     },
     "execution_count": 4,
     "metadata": {},
     "output_type": "execute_result"
    },
    {
     "data": {
      "image/png": "[encoded data removed]",
      "text/plain": [
       "<Figure size 1080x576 with 1 Axes>"
      ]
     },
     "metadata": {
      "needs_background": "light"
     },
     "output_type": "display_data"
    }
   ],
   "source": [
    "y_frame=pd.DataFrame()\n",
    "y_frame['subject ids']=y_train\n",
    "y_frame.groupby(['subject ids']).size().plot.bar(figsize=(15,8),title=\"Number of Samples for Each Classes\")"
   ]
  },
  {
   "cell_type": "code",
   "execution_count": 5,
   "metadata": {},
   "outputs": [],
   "source": [
    "X_train = np.array(X_train)\n",
    "X_test = np.array(X_test)\n"
   ]
  },
  {
   "cell_type": "code",
   "execution_count": 6,
   "metadata": {},
   "outputs": [
    {
     "data": {
      "text/plain": [
       "(100, 4096)"
      ]
     },
     "execution_count": 6,
     "metadata": {},
     "output_type": "execute_result"
    }
   ],
   "source": [
    "X_test.shape"
   ]
  },
  {
   "cell_type": "code",
   "execution_count": 7,
   "metadata": {},
   "outputs": [
    {
     "data": {
      "text/plain": [
       "(300, 4096)"
      ]
     },
     "execution_count": 7,
     "metadata": {},
     "output_type": "execute_result"
    }
   ],
   "source": [
    "X_train.shape"
   ]
  },
  {
   "cell_type": "code",
   "execution_count": 8,
   "metadata": {},
   "outputs": [],
   "source": [
    "nb_classes = 40\n",
    "y_train = np.array(y_train) \n",
    "y_test = np.array(y_test)"
   ]
  },
  {
   "cell_type": "code",
   "execution_count": 9,
   "metadata": {},
   "outputs": [],
   "source": [
    "Y_train = np_utils.to_categorical(y_train, nb_classes)\n",
    "Y_test = np_utils.to_categorical(y_test, nb_classes)\n"
   ]
  },
  {
   "cell_type": "code",
   "execution_count": 10,
   "metadata": {},
   "outputs": [],
   "source": [
    "model = Sequential()\n",
    "model.add(Dense(512,input_shape=(X_train.shape[1],)))\n",
    "model.add(Activation('relu'))\n",
    "model.add(Dropout(0.2))\n",
    "#model.add(Dense(512))\n",
    "model.add(Dense(nb_classes))\n",
    "model.add(Activation('softmax'))\n"
   ]
  },
  {
   "cell_type": "code",
   "execution_count": 11,
   "metadata": {},
   "outputs": [
    {
     "name": "stdout",
     "output_type": "stream",
     "text": [
      "Model: \"sequential_1\"\n",
      "_________________________________________________________________\n",
      "Layer (type)                 Output Shape              Param #   \n",
      "=================================================================\n",
      "dense_2 (Dense)              (None, 512)               2097664   \n",
      "_________________________________________________________________\n",
      "activation_1 (Activation)    (None, 512)               0         \n",
      "_________________________________________________________________\n",
      "dropout_1 (Dropout)          (None, 512)               0         \n",
      "_________________________________________________________________\n",
      "dense_3 (Dense)              (None, 512)               262656    \n",
      "_________________________________________________________________\n",
      "dense_4 (Dense)              (None, 40)                20520     \n",
      "_________________________________________________________________\n",
      "activation_2 (Activation)    (None, 40)                0         \n",
      "=================================================================\n",
      "Total params: 2,380,840\n",
      "Trainable params: 2,380,840\n",
      "Non-trainable params: 0\n",
      "_________________________________________________________________\n"
     ]
    }
   ],
   "source": [
    "model.summary()\n"
   ]
  },
  {
   "cell_type": "code",
   "execution_count": 12,
   "metadata": {},
   "outputs": [],
   "source": [
    "model.compile(loss='categorical_crossentropy', optimizer=\"adam\", metrics=['accuracy'])"
   ]
  },
  {
   "cell_type": "code",
   "execution_count": 13,
   "metadata": {
    "scrolled": true
   },
   "outputs": [
    {
     "name": "stderr",
     "output_type": "stream",
     "text": [
      "c:\\users\\lenovo\\appdata\\local\\programs\\python\\python37\\lib\\site-packages\\ipykernel_launcher.py:1: UserWarning: The `nb_epoch` argument in `fit` has been renamed `epochs`.\n",
      "  \"\"\"Entry point for launching an IPython kernel.\n"
     ]
    },
    {
     "name": "stdout",
     "output_type": "stream",
     "text": [
      "Train on 300 samples, validate on 100 samples\n",
      "Epoch 1/50\n",
      "300/300 [==============================] - 2s 7ms/step - loss: 5.9645 - accuracy: 0.0200 - val_loss: 4.5190 - val_accuracy: 0.0200\n",
      "Epoch 2/50\n",
      "300/300 [==============================] - 2s 5ms/step - loss: 4.2998 - accuracy: 0.0433 - val_loss: 3.8281 - val_accuracy: 0.0400\n",
      "Epoch 3/50\n",
      "300/300 [==============================] - 2s 7ms/step - loss: 3.6818 - accuracy: 0.0267 - val_loss: 3.6911 - val_accuracy: 0.0200\n",
      "Epoch 4/50\n",
      "300/300 [==============================] - 2s 6ms/step - loss: 3.6581 - accuracy: 0.0500 - val_loss: 3.6848 - val_accuracy: 0.0400\n",
      "Epoch 5/50\n",
      "300/300 [==============================] - 1s 3ms/step - loss: 3.6282 - accuracy: 0.0467 - val_loss: 3.7554 - val_accuracy: 0.0200\n",
      "Epoch 6/50\n",
      "300/300 [==============================] - 0s 1ms/step - loss: 3.6075 - accuracy: 0.0433 - val_loss: 3.7108 - val_accuracy: 0.0400\n",
      "Epoch 7/50\n",
      "300/300 [==============================] - 0s 1ms/step - loss: 3.5511 - accuracy: 0.0733 - val_loss: 3.6982 - val_accuracy: 0.0200\n",
      "Epoch 8/50\n",
      "300/300 [==============================] - 0s 1ms/step - loss: 3.5394 - accuracy: 0.0933 - val_loss: 3.6627 - val_accuracy: 0.0300\n",
      "Epoch 9/50\n",
      "300/300 [==============================] - 0s 1ms/step - loss: 3.4605 - accuracy: 0.1233 - val_loss: 3.6885 - val_accuracy: 0.0400\n",
      "Epoch 10/50\n",
      "300/300 [==============================] - 0s 1ms/step - loss: 3.3853 - accuracy: 0.1200 - val_loss: 3.5930 - val_accuracy: 0.0200\n",
      "Epoch 11/50\n",
      "300/300 [==============================] - 0s 961us/step - loss: 3.2487 - accuracy: 0.1400 - val_loss: 3.5365 - val_accuracy: 0.0200\n",
      "Epoch 12/50\n",
      "300/300 [==============================] - 0s 831us/step - loss: 3.2091 - accuracy: 0.1267 - val_loss: 3.4347 - val_accuracy: 0.0500\n",
      "Epoch 13/50\n",
      "300/300 [==============================] - 0s 987us/step - loss: 3.1070 - accuracy: 0.1733 - val_loss: 3.3449 - val_accuracy: 0.0900\n",
      "Epoch 14/50\n",
      "300/300 [==============================] - 0s 894us/step - loss: 3.0827 - accuracy: 0.1467 - val_loss: 3.2813 - val_accuracy: 0.1300\n",
      "Epoch 15/50\n",
      "300/300 [==============================] - 0s 931us/step - loss: 2.9034 - accuracy: 0.2200 - val_loss: 3.1756 - val_accuracy: 0.1200\n",
      "Epoch 16/50\n",
      "300/300 [==============================] - 0s 814us/step - loss: 2.8327 - accuracy: 0.2300 - val_loss: 3.0445 - val_accuracy: 0.1300\n",
      "Epoch 17/50\n",
      "300/300 [==============================] - 0s 967us/step - loss: 2.7791 - accuracy: 0.2633 - val_loss: 2.9002 - val_accuracy: 0.2500\n",
      "Epoch 18/50\n",
      "300/300 [==============================] - 0s 801us/step - loss: 2.5488 - accuracy: 0.3000 - val_loss: 2.8013 - val_accuracy: 0.2600\n",
      "Epoch 19/50\n",
      "300/300 [==============================] - 0s 824us/step - loss: 2.5834 - accuracy: 0.2767 - val_loss: 2.6753 - val_accuracy: 0.2800\n",
      "Epoch 20/50\n",
      "300/300 [==============================] - 0s 838us/step - loss: 2.4297 - accuracy: 0.3233 - val_loss: 2.6503 - val_accuracy: 0.2800\n",
      "Epoch 21/50\n",
      "300/300 [==============================] - 0s 811us/step - loss: 2.4134 - accuracy: 0.3333 - val_loss: 2.5184 - val_accuracy: 0.3600\n",
      "Epoch 22/50\n",
      "300/300 [==============================] - 0s 818us/step - loss: 2.2785 - accuracy: 0.3933 - val_loss: 2.5121 - val_accuracy: 0.2700\n",
      "Epoch 23/50\n",
      "300/300 [==============================] - 0s 861us/step - loss: 2.2354 - accuracy: 0.3800 - val_loss: 2.4693 - val_accuracy: 0.3300\n",
      "Epoch 24/50\n",
      "300/300 [==============================] - 0s 844us/step - loss: 2.2432 - accuracy: 0.3567 - val_loss: 2.3210 - val_accuracy: 0.4000\n",
      "Epoch 25/50\n",
      "300/300 [==============================] - 0s 805us/step - loss: 2.1421 - accuracy: 0.3900 - val_loss: 2.2243 - val_accuracy: 0.4800\n",
      "Epoch 26/50\n",
      "300/300 [==============================] - 0s 878us/step - loss: 2.0424 - accuracy: 0.4600 - val_loss: 2.1988 - val_accuracy: 0.4100\n",
      "Epoch 27/50\n",
      "300/300 [==============================] - 0s 828us/step - loss: 2.1097 - accuracy: 0.4300 - val_loss: 2.2332 - val_accuracy: 0.3500\n",
      "Epoch 28/50\n",
      "300/300 [==============================] - 0s 871us/step - loss: 2.0360 - accuracy: 0.4000 - val_loss: 2.1286 - val_accuracy: 0.3900\n",
      "Epoch 29/50\n",
      "300/300 [==============================] - 0s 868us/step - loss: 1.9073 - accuracy: 0.4567 - val_loss: 2.0780 - val_accuracy: 0.4200\n",
      "Epoch 30/50\n",
      "300/300 [==============================] - 0s 848us/step - loss: 1.9725 - accuracy: 0.4500 - val_loss: 2.0565 - val_accuracy: 0.4700\n",
      "Epoch 31/50\n",
      "300/300 [==============================] - 0s 811us/step - loss: 1.9239 - accuracy: 0.4633 - val_loss: 2.0210 - val_accuracy: 0.4400\n",
      "Epoch 32/50\n",
      "300/300 [==============================] - 0s 881us/step - loss: 1.8832 - accuracy: 0.4567 - val_loss: 1.9698 - val_accuracy: 0.4500\n",
      "Epoch 33/50\n",
      "300/300 [==============================] - 0s 821us/step - loss: 1.9248 - accuracy: 0.4067 - val_loss: 1.9569 - val_accuracy: 0.3900\n",
      "Epoch 34/50\n",
      "300/300 [==============================] - 0s 818us/step - loss: 1.7458 - accuracy: 0.5000 - val_loss: 1.8252 - val_accuracy: 0.5400\n",
      "Epoch 35/50\n",
      "300/300 [==============================] - 0s 814us/step - loss: 1.6899 - accuracy: 0.5267 - val_loss: 1.7920 - val_accuracy: 0.5200\n",
      "Epoch 36/50\n",
      "300/300 [==============================] - 0s 831us/step - loss: 1.5476 - accuracy: 0.5700 - val_loss: 1.7122 - val_accuracy: 0.5700\n",
      "Epoch 37/50\n",
      "300/300 [==============================] - 0s 811us/step - loss: 1.6292 - accuracy: 0.5233 - val_loss: 1.7389 - val_accuracy: 0.5600\n",
      "Epoch 38/50\n",
      "300/300 [==============================] - 0s 864us/step - loss: 1.6602 - accuracy: 0.5033 - val_loss: 1.6860 - val_accuracy: 0.5700\n",
      "Epoch 39/50\n",
      "300/300 [==============================] - 0s 841us/step - loss: 1.6623 - accuracy: 0.5167 - val_loss: 1.6487 - val_accuracy: 0.6100\n",
      "Epoch 40/50\n",
      "300/300 [==============================] - 0s 864us/step - loss: 1.6275 - accuracy: 0.5633 - val_loss: 1.5972 - val_accuracy: 0.6200\n",
      "Epoch 41/50\n",
      "300/300 [==============================] - 0s 844us/step - loss: 1.4741 - accuracy: 0.5933 - val_loss: 1.6122 - val_accuracy: 0.5600\n",
      "Epoch 42/50\n",
      "300/300 [==============================] - 0s 844us/step - loss: 1.5508 - accuracy: 0.5733 - val_loss: 1.5162 - val_accuracy: 0.6200\n",
      "Epoch 43/50\n",
      "300/300 [==============================] - 0s 848us/step - loss: 1.5196 - accuracy: 0.5467 - val_loss: 1.4888 - val_accuracy: 0.6600\n",
      "Epoch 44/50\n",
      "300/300 [==============================] - 0s 851us/step - loss: 1.4146 - accuracy: 0.6200 - val_loss: 1.4508 - val_accuracy: 0.6800\n",
      "Epoch 45/50\n",
      "300/300 [==============================] - 0s 805us/step - loss: 1.4839 - accuracy: 0.5533 - val_loss: 1.4042 - val_accuracy: 0.6600\n",
      "Epoch 46/50\n",
      "300/300 [==============================] - 0s 858us/step - loss: 1.4570 - accuracy: 0.5933 - val_loss: 1.3998 - val_accuracy: 0.6400\n",
      "Epoch 47/50\n",
      "300/300 [==============================] - 0s 854us/step - loss: 1.4906 - accuracy: 0.5267 - val_loss: 1.4103 - val_accuracy: 0.7000\n",
      "Epoch 48/50\n",
      "300/300 [==============================] - 0s 841us/step - loss: 1.3315 - accuracy: 0.6267 - val_loss: 1.3926 - val_accuracy: 0.6200\n",
      "Epoch 49/50\n",
      "300/300 [==============================] - 0s 811us/step - loss: 1.4539 - accuracy: 0.5633 - val_loss: 1.5107 - val_accuracy: 0.6500\n",
      "Epoch 50/50\n",
      "300/300 [==============================] - 0s 848us/step - loss: 1.4632 - accuracy: 0.6033 - val_loss: 1.4678 - val_accuracy: 0.5900\n"
     ]
    },
    {
     "data": {
      "text/plain": [
       "<keras.callbacks.callbacks.History at 0x19e117342b0>"
      ]
     },
     "execution_count": 13,
     "metadata": {},
     "output_type": "execute_result"
    }
   ],
   "source": [
    "model.fit(X_train, Y_train, batch_size=64, nb_epoch=50, verbose=1, validation_data=(X_test, Y_test))\n"
   ]
  },
  {
   "cell_type": "code",
   "execution_count": 14,
   "metadata": {},
   "outputs": [],
   "source": [
    "loss, accuracy = model.evaluate(X_test,Y_test, verbose=0)\n"
   ]
  },
  {
   "cell_type": "code",
   "execution_count": 15,
   "metadata": {},
   "outputs": [
    {
     "data": {
      "text/plain": [
       "1.4678105449676513"
      ]
     },
     "execution_count": 15,
     "metadata": {},
     "output_type": "execute_result"
    }
   ],
   "source": [
    "loss"
   ]
  },
  {
   "cell_type": "code",
   "execution_count": 16,
   "metadata": {},
   "outputs": [
    {
     "data": {
      "text/plain": [
       "0.5899999737739563"
      ]
     },
     "execution_count": 16,
     "metadata": {},
     "output_type": "execute_result"
    }
   ],
   "source": [
    "accuracy"
   ]
  },
  {
   "cell_type": "code",
   "execution_count": 17,
   "metadata": {},
   "outputs": [],
   "source": [
    "predicted_classes = model.predict_classes(X_test)"
   ]
  },
  {
   "cell_type": "code",
   "execution_count": 18,
   "metadata": {},
   "outputs": [],
   "source": [
    "correct_classified_indices = np.nonzero(predicted_classes == y_test)[0]\n",
    "incorrect_classified_indices = np.nonzero(predicted_classes != y_test)[0]"
   ]
  },
  {
   "cell_type": "code",
   "execution_count": 19,
   "metadata": {},
   "outputs": [
    {
     "data": {
      "text/plain": [
       "array([ 0,  1,  3,  7,  8,  9, 10, 11, 14, 15, 18, 21, 25, 27, 28, 29, 30,\n",
       "       31, 32, 33, 34, 35, 36, 38, 40, 41, 44, 45, 46, 47, 48, 49, 51, 55,\n",
       "       56, 57, 58, 59, 60, 61, 65, 69, 71, 72, 74, 77, 79, 80, 81, 83, 84,\n",
       "       86, 89, 90, 91, 92, 95, 96, 98], dtype=int64)"
      ]
     },
     "execution_count": 19,
     "metadata": {},
     "output_type": "execute_result"
    }
   ],
   "source": [
    "correct_classified_indices"
   ]
  },
  {
   "cell_type": "code",
   "execution_count": 20,
   "metadata": {},
   "outputs": [
    {
     "data": {
      "text/plain": [
       "array([ 2,  4,  5,  6, 12, 13, 16, 17, 19, 20, 22, 23, 24, 26, 37, 39, 42,\n",
       "       43, 50, 52, 53, 54, 62, 63, 64, 66, 67, 68, 70, 73, 75, 76, 78, 82,\n",
       "       85, 87, 88, 93, 94, 97, 99], dtype=int64)"
      ]
     },
     "execution_count": 20,
     "metadata": {},
     "output_type": "execute_result"
    }
   ],
   "source": [
    "incorrect_classified_indices"
   ]
  },
  {
   "cell_type": "code",
   "execution_count": 21,
   "metadata": {},
   "outputs": [],
   "source": [
    "predicted_classes = model.predict_classes(X_train)"
   ]
  },
  {
   "cell_type": "code",
   "execution_count": 22,
   "metadata": {},
   "outputs": [
    {
     "data": {
      "text/plain": [
       "array([25,  6, 31, 15, 28, 34,  8,  4,  3,  4,  9,  8, 29,  2, 36, 21, 25,\n",
       "        5, 23, 34,  9, 24, 10, 23, 37, 33,  2, 25, 35, 16, 15, 20,  6, 24,\n",
       "       21, 10, 31, 19, 32,  1, 16, 18,  3, 11, 26, 10, 35, 24, 23, 11, 33,\n",
       "       22, 38, 11, 21, 13, 27, 12, 19, 29, 38, 13,  3, 37, 25,  3, 23,  9,\n",
       "        8,  6, 16, 28, 30, 39, 23, 28, 10, 30, 32, 39, 22,  7, 13, 38, 25,\n",
       "       21,  2, 18, 36, 27, 30, 32, 35,  2,  7, 21, 15, 21, 37, 24, 13, 23,\n",
       "       21, 27, 27, 30, 23,  3, 20, 39,  6,  2, 33,  4, 24, 12,  9, 11, 16,\n",
       "       38, 38,  8,  4,  1, 28,  7, 24, 39,  7,  1, 36, 21, 38, 38, 22, 16,\n",
       "       10, 16,  8, 18, 11, 11, 25, 18,  3, 37, 11, 14, 15, 15,  1, 26,  7,\n",
       "       10, 32, 20, 31, 13, 23, 31, 24, 30,  1, 22, 30, 39, 27,  3,  7, 18,\n",
       "       30, 37, 34, 18, 35,  8, 25,  1,  4,  8, 26,  3, 38,  5,  4, 27, 30,\n",
       "       39, 31, 31, 33, 12, 22,  6, 30, 13, 18,  2,  4, 15,  4, 33,  2, 38,\n",
       "        9, 25,  9, 36,  9, 35, 16,  6, 30,  4, 20, 27, 22, 14, 33, 18, 13,\n",
       "       35, 39, 26, 32, 20,  8, 24, 34, 36,  9,  8, 26, 11, 29,  5, 32, 25,\n",
       "       35,  4, 10, 36, 27, 35,  3,  5, 34, 12,  4,  2, 18, 16, 15, 24, 20,\n",
       "        3,  3, 12, 31, 37, 38, 36, 14, 28, 39, 20,  7, 33, 33, 19, 24, 11,\n",
       "       26,  7, 33,  2, 16, 33, 38, 20, 38,  3, 19, 31,  8,  7,  8, 29, 24,\n",
       "       27, 21, 13, 35, 23, 25, 32, 15, 11,  4, 17], dtype=int64)"
      ]
     },
     "execution_count": 22,
     "metadata": {},
     "output_type": "execute_result"
    }
   ],
   "source": [
    "predicted_classes"
   ]
  },
  {
   "cell_type": "code",
   "execution_count": null,
   "metadata": {},
   "outputs": [],
   "source": []
  },
  {
   "cell_type": "code",
   "execution_count": null,
   "metadata": {},
   "outputs": [],
   "source": []
  }
 ],
 "metadata": {
  "kernelspec": {
   "display_name": "Python 3",
   "language": "python",
   "name": "python3"
  },
  "language_info": {
   "codemirror_mode": {
    "name": "ipython",
    "version": 3
   },
   "file_extension": ".py",
   "mimetype": "text/x-python",
   "name": "python",
   "nbconvert_exporter": "python",
   "pygments_lexer": "ipython3",
   "version": "3.7.1"
  }
 },
 "nbformat": 4,
 "nbformat_minor": 2
}
